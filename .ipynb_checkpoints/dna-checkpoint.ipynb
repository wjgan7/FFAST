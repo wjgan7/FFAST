{
 "cells": [
  {
   "cell_type": "code",
   "execution_count": 2,
   "metadata": {
    "collapsed": true
   },
   "outputs": [],
   "source": [
    "from Bio import SeqIO"
   ]
  },
  {
   "cell_type": "code",
   "execution_count": 3,
   "metadata": {
    "collapsed": true
   },
   "outputs": [],
   "source": [
    "records = SeqIO.parse('GRCh38_latest_genomic.fna', 'fasta')\n",
    "\n",
    "seq_record = next(records)"
   ]
  },
  {
   "cell_type": "code",
   "execution_count": 4,
   "metadata": {},
   "outputs": [
    {
     "name": "stdout",
     "output_type": "stream",
     "text": [
      "ID: NC_000001.11\n",
      "Name: NC_000001.11\n",
      "Description: NC_000001.11 Homo sapiens chromosome 1, GRCh38.p12 Primary Assembly\n",
      "Number of features: 0\n",
      "Seq('NNNNNNNNNNNNNNNNNNNNNNNNNNNNNNNNNNNNNNNNNNNNNNNNNNNNNN...NNN', SingleLetterAlphabet())\n"
     ]
    }
   ],
   "source": [
    "print(seq_record)"
   ]
  },
  {
   "cell_type": "code",
   "execution_count": 5,
   "metadata": {
    "collapsed": true
   },
   "outputs": [],
   "source": [
    "seq = seq_record.seq"
   ]
  },
  {
   "cell_type": "code",
   "execution_count": 6,
   "metadata": {},
   "outputs": [
    {
     "data": {
      "text/plain": [
       "248956422"
      ]
     },
     "execution_count": 6,
     "metadata": {},
     "output_type": "execute_result"
    }
   ],
   "source": [
    "len(seq)"
   ]
  },
  {
   "cell_type": "code",
   "execution_count": 7,
   "metadata": {},
   "outputs": [
    {
     "data": {
      "text/plain": [
       "Seq('ACTAAGCACACAGAGAATAATGTCTAGAATCTGAGTGCCATGTTATCAAATTGT...AGG', SingleLetterAlphabet())"
      ]
     },
     "execution_count": 7,
     "metadata": {},
     "output_type": "execute_result"
    }
   ],
   "source": [
    "seq[100000:1000500]"
   ]
  },
  {
   "cell_type": "code",
   "execution_count": 8,
   "metadata": {},
   "outputs": [
    {
     "data": {
      "text/plain": [
       "18475408"
      ]
     },
     "execution_count": 8,
     "metadata": {},
     "output_type": "execute_result"
    }
   ],
   "source": [
    "seq.count('N')"
   ]
  },
  {
   "cell_type": "code",
   "execution_count": 9,
   "metadata": {
    "collapsed": true
   },
   "outputs": [],
   "source": [
    "import numpy as np"
   ]
  },
  {
   "cell_type": "code",
   "execution_count": 10,
   "metadata": {
    "collapsed": true
   },
   "outputs": [],
   "source": [
    "PATTERN_LENGTH = 1000\n",
    "TRIALS = 50\n",
    "rand_indexes = np.random.randint(len(seq) - PATTERN_LENGTH + 1, size = TRIALS)\n",
    "rand_seqs = [seq[index : index + PATTERN_LENGTH] for index in rand_indexes]"
   ]
  },
  {
   "cell_type": "code",
   "execution_count": 11,
   "metadata": {
    "collapsed": true
   },
   "outputs": [],
   "source": [
    "import time"
   ]
  },
  {
   "cell_type": "code",
   "execution_count": 12,
   "metadata": {},
   "outputs": [
    {
     "name": "stdout",
     "output_type": "stream",
     "text": [
      "Pattern starting at index 99702246. Found match at index 99702246. Took 0.3440430000000001\n",
      "Pattern starting at index 248257787. Found match at index 248257787. Took 0.7676189999999998\n",
      "Pattern starting at index 106981401. Found match at index 106981401. Took 0.22026699999999977\n",
      "Pattern starting at index 83230124. Found match at index 83230124. Took 0.29790700000000037\n",
      "Pattern starting at index 207616487. Found match at index 207616487. Took 0.7086350000000001\n",
      "Pattern starting at index 143083843. Found match at index 0. Took 1.5999999999571912e-05\n",
      "Pattern starting at index 27889613. Found match at index 27889613. Took 0.06140900000000027\n",
      "Pattern starting at index 316556. Found match at index 0. Took 1.4999999999432134e-05\n",
      "Pattern starting at index 215194961. Found match at index 215194961. Took 0.5609480000000007\n",
      "Pattern starting at index 69591945. Found match at index 69591945. Took 0.20468200000000003\n",
      "Pattern starting at index 74235958. Found match at index 74235958. Took 0.29985000000000017\n",
      "Pattern starting at index 220141215. Found match at index 220141215. Took 1.033754\n",
      "Pattern starting at index 178502578. Found match at index 178502578. Took 0.5221230000000006\n",
      "Pattern starting at index 241724119. Found match at index 241724119. Took 0.7907320000000002\n",
      "Pattern starting at index 87831621. Found match at index 87831621. Took 0.4329149999999995\n",
      "Pattern starting at index 9962199. Found match at index 9962199. Took 0.04644599999999954\n",
      "Pattern starting at index 153441075. Found match at index 153441075. Took 0.279539999999999\n",
      "Pattern starting at index 161528787. Found match at index 161528787. Took 0.3744940000000003\n",
      "Pattern starting at index 131472596. Found match at index 0. Took 1.8999999999991246e-05\n",
      "Pattern starting at index 60186267. Found match at index 60186267. Took 0.15008100000000013\n",
      "Pattern starting at index 187369956. Found match at index 187369956. Took 0.7061410000000006\n",
      "Pattern starting at index 124286485. Found match at index 124286485. Took 0.03785300000000014\n",
      "Pattern starting at index 150715036. Found match at index 150715036. Took 0.36339900000000114\n",
      "Pattern starting at index 218691484. Found match at index 218691484. Took 0.8337589999999988\n",
      "Pattern starting at index 57725865. Found match at index 57725865. Took 0.1464800000000004\n",
      "Pattern starting at index 172636383. Found match at index 172636383. Took 0.6001560000000001\n",
      "Pattern starting at index 39292306. Found match at index 39292306. Took 0.1046800000000001\n",
      "Pattern starting at index 20487002. Found match at index 20487002. Took 0.0485919999999993\n",
      "Pattern starting at index 47793492. Found match at index 47793492. Took 0.2382559999999998\n",
      "Pattern starting at index 234572270. Found match at index 234572270. Took 0.7933020000000006\n",
      "Pattern starting at index 12000022. Found match at index 12000022. Took 0.026037000000000532\n",
      "Pattern starting at index 99914997. Found match at index 99914997. Took 0.2992699999999999\n",
      "Pattern starting at index 31218980. Found match at index 31218980. Took 0.11240399999999973\n",
      "Pattern starting at index 41880436. Found match at index 41880436. Took 0.14479600000000126\n",
      "Pattern starting at index 99045221. Found match at index 99045221. Took 0.1550370000000001\n",
      "Pattern starting at index 91568993. Found match at index 91568993. Took 0.30420100000000083\n",
      "Pattern starting at index 34228024. Found match at index 34228024. Took 0.13571699999999964\n",
      "Pattern starting at index 78380327. Found match at index 78380327. Took 0.2791889999999988\n",
      "Pattern starting at index 80758418. Found match at index 80758418. Took 0.18507199999999813\n",
      "Pattern starting at index 248508141. Found match at index 248508141. Took 1.0706179999999996\n",
      "Pattern starting at index 112604765. Found match at index 112604765. Took 0.3896489999999986\n",
      "Pattern starting at index 236243162. Found match at index 236243162. Took 0.7747400000000013\n",
      "Pattern starting at index 133533332. Found match at index 0. Took 1.699999999971169e-05\n",
      "Pattern starting at index 35379772. Found match at index 35379772. Took 0.12632599999999883\n",
      "Pattern starting at index 8285836. Found match at index 8285836. Took 0.03244199999999964\n",
      "Pattern starting at index 235903346. Found match at index 235903346. Took 0.9311569999999989\n",
      "Pattern starting at index 9967368. Found match at index 9967368. Took 0.030378999999999934\n",
      "Pattern starting at index 206526251. Found match at index 206526251. Took 0.608784\n",
      "Pattern starting at index 200015219. Found match at index 200015219. Took 0.6762890000000006\n",
      "Pattern starting at index 211317249. Found match at index 211317249. Took 0.4376450000000034\n",
      "Average time: 0.35375764\n"
     ]
    }
   ],
   "source": [
    "# https://github.com/python/cpython/blob/master/Objects/stringlib/fastsearch.h#L5\n",
    "\n",
    "average_time = 0\n",
    "for (pattern, index) in zip(rand_seqs, rand_indexes):\n",
    "    start = time.clock()\n",
    "    found_index = seq.find(pattern)\n",
    "    end = time.clock()\n",
    "    time_elapsed = end - start\n",
    "    average_time += time_elapsed\n",
    "    print(\"Pattern starting at index {}. Found match at index {}. Took {}\".format(index, found_index, time_elapsed))\n",
    "print(\"Average time: {}\".format(average_time / TRIALS))"
   ]
  },
  {
   "cell_type": "code",
   "execution_count": 18,
   "metadata": {},
   "outputs": [
    {
     "data": {
      "text/plain": [
       "248956422"
      ]
     },
     "execution_count": 18,
     "metadata": {},
     "output_type": "execute_result"
    }
   ],
   "source": [
    "dna_string = str(seq)\n",
    "len(dna_string)"
   ]
  },
  {
   "cell_type": "code",
   "execution_count": 17,
   "metadata": {},
   "outputs": [
    {
     "name": "stdout",
     "output_type": "stream",
     "text": [
      "{'N': 18475408, 't': 25922550, 'a': 25810086, 'c': 16788841, 'g': 16855483, 'C': 31266202, 'G': 31256045, 'T': 41321614, 'A': 41260191, 'M': 1, 'R': 1}\n"
     ]
    }
   ],
   "source": [
    "counts = {}\n",
    "for base in dna_string:\n",
    "    if base not in counts:\n",
    "        counts[base] = 0\n",
    "    counts[base] += 1\n",
    "print(counts)"
   ]
  },
  {
   "cell_type": "code",
   "execution_count": null,
   "metadata": {
    "collapsed": true
   },
   "outputs": [],
   "source": []
  }
 ],
 "metadata": {
  "kernelspec": {
   "display_name": "Python 3",
   "language": "python",
   "name": "python3"
  },
  "language_info": {
   "codemirror_mode": {
    "name": "ipython",
    "version": 3
   },
   "file_extension": ".py",
   "mimetype": "text/x-python",
   "name": "python",
   "nbconvert_exporter": "python",
   "pygments_lexer": "ipython3",
   "version": "3.6.5"
  }
 },
 "nbformat": 4,
 "nbformat_minor": 2
}
