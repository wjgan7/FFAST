{
 "cells": [
  {
   "cell_type": "code",
   "execution_count": 1,
   "metadata": {},
   "outputs": [],
   "source": [
    "from Bio import SeqIO\n",
    "import time"
   ]
  },
  {
   "cell_type": "code",
   "execution_count": 3,
   "metadata": {},
   "outputs": [
    {
     "name": "stdout",
     "output_type": "stream",
     "text": [
      "It took 1.39224 seconds to create the SeqRecord object\n"
     ]
    }
   ],
   "source": [
    "# Based on how much my memory usage increases by its probably 700 MB\n",
    "gen = SeqIO.parse('GRCh38_latest_genomic.fna', 'fasta')\n",
    "start = time.clock()\n",
    "chr1_seq = next(gen).seq\n",
    "end = time.clock()\n",
    "print(f'It took {end - start} seconds to create the Seq object')"
   ]
  },
  {
   "cell_type": "code",
   "execution_count": 4,
   "metadata": {},
   "outputs": [],
   "source": [
    "chr1_str = str(chr1_seq)"
   ]
  },
  {
   "cell_type": "code",
   "execution_count": 5,
   "metadata": {},
   "outputs": [
    {
     "name": "stdout",
     "output_type": "stream",
     "text": [
      "It takes 4.213208 seconds to iterate through the string\n"
     ]
    }
   ],
   "source": [
    "start = time.clock()\n",
    "for s in chr1_str:\n",
    "    pass\n",
    "end = time.clock()\n",
    "print(f'It takes {end - start} seconds to iterate through the string')"
   ]
  },
  {
   "cell_type": "code",
   "execution_count": 7,
   "metadata": {},
   "outputs": [],
   "source": [
    "# The actual string is roughly 200 MB as expected.\n",
    "chr1_copy = (chr1_str+'.')[:-1]"
   ]
  },
  {
   "cell_type": "markdown",
   "metadata": {},
   "source": [
    "What I realized last week and what I will test here is that Seq.find is amazingly fast. Like it'll find a length 1000 segment in 0.5 seconds when it takes 4.213 seconds to iterate through the entire string. Well maybe it has a lot of indexing structures on top of it. It does seem to have an extra 500 MB (the data itself is only 200 MB) but I don't think that's enough to justify its speed. Also somehow it managed to construct the object and I presume indexing structures in like 1.4 seconds. Even with optimized routines this seems way too fast."
   ]
  },
  {
   "cell_type": "code",
   "execution_count": 8,
   "metadata": {},
   "outputs": [],
   "source": [
    "import pandas as pd"
   ]
  },
  {
   "cell_type": "code",
   "execution_count": 20,
   "metadata": {},
   "outputs": [],
   "source": [
    "TRIALS_PER_SEQ = 1\n",
    "\n",
    "def test_for_seq(seq, df):\n",
    "    for (i, length) in enumerate(PATTERN_LENGTHS):\n",
    "        for _ in range(TRIALS_PER_SEQ):\n",
    "            df.loc[i]['Samples'] += 1\n",
    "            \n",
    "            start = np.random.randint(0, len(seq) - length + 1)\n",
    "            sub_seq = seq[start : start + length]\n",
    "            \n",
    "            start_time = time.clock()\n",
    "            df.loc[i]['Average Sparsity'] += seq.count(sub_seq)\n",
    "            end_time = time.clock()\n",
    "            df.loc[i]['Average Count Time'] += end_time - start_time\n",
    "            \n",
    "            start_time = time.clock()\n",
    "            seq.find(sub_seq)\n",
    "            end_time = time.clock()\n",
    "            df.loc[i]['Average Find Time'] += end_time - start_time"
   ]
  },
  {
   "cell_type": "code",
   "execution_count": 31,
   "metadata": {},
   "outputs": [],
   "source": [
    "PATTERN_LENGTHS = [50, 100, 500, 1000, 5000, 10000, 50000, 100000]\n",
    "\n",
    "df = pd.DataFrame(columns=['Pattern Length', 'Samples', 'Average Find Time', 'Average Count Time', 'Average Sparsity'])\n",
    "for i, length in enumerate(PATTERN_LENGTHS):\n",
    "    df.loc[i] = [length, 0, 0, 0, 0]"
   ]
  },
  {
   "cell_type": "code",
   "execution_count": null,
   "metadata": {},
   "outputs": [],
   "source": [
    "for i in range(25):\n",
    "    "
   ]
  }
 ],
 "metadata": {
  "kernelspec": {
   "display_name": "Python 3",
   "language": "python",
   "name": "python3"
  },
  "language_info": {
   "codemirror_mode": {
    "name": "ipython",
    "version": 3
   },
   "file_extension": ".py",
   "mimetype": "text/x-python",
   "name": "python",
   "nbconvert_exporter": "python",
   "pygments_lexer": "ipython3",
   "version": "3.6.5"
  }
 },
 "nbformat": 4,
 "nbformat_minor": 2
}
